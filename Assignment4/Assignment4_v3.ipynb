{
 "cells": [
  {
   "cell_type": "markdown",
   "id": "32135f87",
   "metadata": {
    "id": "32135f87"
   },
   "source": [
    "# Comparison of the performances of classification models\n",
    "\n",
    "Build kNN and logistic regression classifiers using sklearn library to predict \"satisfaction\" (**label** variable) by using given data. \n",
    "- First, shuffle and split your data into train, validation and test sets randomly, with a ratio of 70:10:20 **(10 points)**. \n",
    "- Build your models (with proper comments and explanations) using training set, and do parameter selection over the validation set  **(45 points)**. \n",
    "- Compare these 2 classification models according to their accuracies (you can print accuracy values in a single table as a comprehensive view) over the test set. Comment on their classification performance **(10 points)**.\n",
    "- Plot confusion matrices for your models over the test set, and comment on the outcomes **(15 points)**. \n",
    "- Finally, plot Precision-Recall (PR) curves for each classification model over the test set and evaluate the prediction performance of each classifier **(20 points)**. \n",
    "\n",
    "Notes:\n",
    "\n",
    "* Choose the optimal k value using Minkowski distance (with trying two different p-values) for kNN model using the validation set. \n",
    "\n",
    "\n",
    "* For any parameter selection, use the validation set.\n",
    "\n",
    "\n",
    "* Don't forget to add comments into your code lines to explain how your program works, your intentions behind it. Also, do not forget to comment on the outcomes and comparisons. "
   ]
  },
  {
   "cell_type": "markdown",
   "id": "83272eb9",
   "metadata": {},
   "source": [
    "                                           -----------Assignment4-----------\n",
    "### Name : Muhammet Ali                        \n",
    "### Surname: Şentürk\n",
    "### ID : 21993073                                     \n",
    "### Lecture : AIN214\n",
    "### Due Date : 16/12/2021 14:00\n",
    "### Grade:100"
   ]
  },
  {
   "cell_type": "code",
   "execution_count": 1,
   "id": "eead1261",
   "metadata": {},
   "outputs": [],
   "source": [
    "# Importing libraries \n",
    "import pandas as pd \n",
    "import numpy as np\n",
    "import matplotlib.pyplot as plt\n",
    "%matplotlib inline\n",
    "\n",
    "import warnings\n",
    "warnings.filterwarnings(\"ignore\")"
   ]
  },
  {
   "cell_type": "code",
   "execution_count": 2,
   "id": "ce72fd4e",
   "metadata": {},
   "outputs": [
    {
     "name": "stdout",
     "output_type": "stream",
     "text": [
      "Shape of the data is: (1735, 23)\n"
     ]
    },
    {
     "data": {
      "text/html": [
       "<div>\n",
       "<style scoped>\n",
       "    .dataframe tbody tr th:only-of-type {\n",
       "        vertical-align: middle;\n",
       "    }\n",
       "\n",
       "    .dataframe tbody tr th {\n",
       "        vertical-align: top;\n",
       "    }\n",
       "\n",
       "    .dataframe thead th {\n",
       "        text-align: right;\n",
       "    }\n",
       "</style>\n",
       "<table border=\"1\" class=\"dataframe\">\n",
       "  <thead>\n",
       "    <tr style=\"text-align: right;\">\n",
       "      <th></th>\n",
       "      <th>satisfaction</th>\n",
       "      <th>Gender</th>\n",
       "      <th>Customer Type</th>\n",
       "      <th>Age</th>\n",
       "      <th>Type of Travel</th>\n",
       "      <th>Class</th>\n",
       "      <th>Flight Distance</th>\n",
       "      <th>Seat comfort</th>\n",
       "      <th>Departure/Arrival time convenient</th>\n",
       "      <th>Food and drink</th>\n",
       "      <th>...</th>\n",
       "      <th>Online support</th>\n",
       "      <th>Ease of Online booking</th>\n",
       "      <th>On-board service</th>\n",
       "      <th>Leg room service</th>\n",
       "      <th>Baggage handling</th>\n",
       "      <th>Checkin service</th>\n",
       "      <th>Cleanliness</th>\n",
       "      <th>Online boarding</th>\n",
       "      <th>Departure Delay in Minutes</th>\n",
       "      <th>Arrival Delay in Minutes</th>\n",
       "    </tr>\n",
       "  </thead>\n",
       "  <tbody>\n",
       "    <tr>\n",
       "      <th>0</th>\n",
       "      <td>satisfied</td>\n",
       "      <td>Female</td>\n",
       "      <td>Loyal Customer</td>\n",
       "      <td>65</td>\n",
       "      <td>Personal Travel</td>\n",
       "      <td>Eco</td>\n",
       "      <td>265</td>\n",
       "      <td>0</td>\n",
       "      <td>0</td>\n",
       "      <td>0</td>\n",
       "      <td>...</td>\n",
       "      <td>2</td>\n",
       "      <td>3</td>\n",
       "      <td>3</td>\n",
       "      <td>0</td>\n",
       "      <td>3</td>\n",
       "      <td>5</td>\n",
       "      <td>3</td>\n",
       "      <td>2</td>\n",
       "      <td>0</td>\n",
       "      <td>0.0</td>\n",
       "    </tr>\n",
       "    <tr>\n",
       "      <th>1</th>\n",
       "      <td>satisfied</td>\n",
       "      <td>Male</td>\n",
       "      <td>Loyal Customer</td>\n",
       "      <td>47</td>\n",
       "      <td>Personal Travel</td>\n",
       "      <td>Business</td>\n",
       "      <td>2464</td>\n",
       "      <td>0</td>\n",
       "      <td>0</td>\n",
       "      <td>0</td>\n",
       "      <td>...</td>\n",
       "      <td>2</td>\n",
       "      <td>3</td>\n",
       "      <td>4</td>\n",
       "      <td>4</td>\n",
       "      <td>4</td>\n",
       "      <td>2</td>\n",
       "      <td>3</td>\n",
       "      <td>2</td>\n",
       "      <td>310</td>\n",
       "      <td>305.0</td>\n",
       "    </tr>\n",
       "    <tr>\n",
       "      <th>2</th>\n",
       "      <td>satisfied</td>\n",
       "      <td>Female</td>\n",
       "      <td>Loyal Customer</td>\n",
       "      <td>15</td>\n",
       "      <td>Personal Travel</td>\n",
       "      <td>Eco</td>\n",
       "      <td>2138</td>\n",
       "      <td>0</td>\n",
       "      <td>0</td>\n",
       "      <td>0</td>\n",
       "      <td>...</td>\n",
       "      <td>2</td>\n",
       "      <td>2</td>\n",
       "      <td>3</td>\n",
       "      <td>3</td>\n",
       "      <td>4</td>\n",
       "      <td>4</td>\n",
       "      <td>4</td>\n",
       "      <td>2</td>\n",
       "      <td>0</td>\n",
       "      <td>0.0</td>\n",
       "    </tr>\n",
       "    <tr>\n",
       "      <th>3</th>\n",
       "      <td>satisfied</td>\n",
       "      <td>Female</td>\n",
       "      <td>Loyal Customer</td>\n",
       "      <td>60</td>\n",
       "      <td>Personal Travel</td>\n",
       "      <td>Eco</td>\n",
       "      <td>623</td>\n",
       "      <td>0</td>\n",
       "      <td>0</td>\n",
       "      <td>0</td>\n",
       "      <td>...</td>\n",
       "      <td>3</td>\n",
       "      <td>1</td>\n",
       "      <td>1</td>\n",
       "      <td>0</td>\n",
       "      <td>1</td>\n",
       "      <td>4</td>\n",
       "      <td>1</td>\n",
       "      <td>3</td>\n",
       "      <td>0</td>\n",
       "      <td>0.0</td>\n",
       "    </tr>\n",
       "    <tr>\n",
       "      <th>4</th>\n",
       "      <td>satisfied</td>\n",
       "      <td>Female</td>\n",
       "      <td>Loyal Customer</td>\n",
       "      <td>70</td>\n",
       "      <td>Personal Travel</td>\n",
       "      <td>Eco</td>\n",
       "      <td>354</td>\n",
       "      <td>0</td>\n",
       "      <td>0</td>\n",
       "      <td>0</td>\n",
       "      <td>...</td>\n",
       "      <td>4</td>\n",
       "      <td>2</td>\n",
       "      <td>2</td>\n",
       "      <td>0</td>\n",
       "      <td>2</td>\n",
       "      <td>4</td>\n",
       "      <td>2</td>\n",
       "      <td>5</td>\n",
       "      <td>0</td>\n",
       "      <td>0.0</td>\n",
       "    </tr>\n",
       "  </tbody>\n",
       "</table>\n",
       "<p>5 rows × 23 columns</p>\n",
       "</div>"
      ],
      "text/plain": [
       "  satisfaction  Gender   Customer Type  Age   Type of Travel     Class  \\\n",
       "0    satisfied  Female  Loyal Customer   65  Personal Travel       Eco   \n",
       "1    satisfied    Male  Loyal Customer   47  Personal Travel  Business   \n",
       "2    satisfied  Female  Loyal Customer   15  Personal Travel       Eco   \n",
       "3    satisfied  Female  Loyal Customer   60  Personal Travel       Eco   \n",
       "4    satisfied  Female  Loyal Customer   70  Personal Travel       Eco   \n",
       "\n",
       "   Flight Distance  Seat comfort  Departure/Arrival time convenient  \\\n",
       "0              265             0                                  0   \n",
       "1             2464             0                                  0   \n",
       "2             2138             0                                  0   \n",
       "3              623             0                                  0   \n",
       "4              354             0                                  0   \n",
       "\n",
       "   Food and drink  ...  Online support  Ease of Online booking  \\\n",
       "0               0  ...               2                       3   \n",
       "1               0  ...               2                       3   \n",
       "2               0  ...               2                       2   \n",
       "3               0  ...               3                       1   \n",
       "4               0  ...               4                       2   \n",
       "\n",
       "   On-board service  Leg room service  Baggage handling  Checkin service  \\\n",
       "0                 3                 0                 3                5   \n",
       "1                 4                 4                 4                2   \n",
       "2                 3                 3                 4                4   \n",
       "3                 1                 0                 1                4   \n",
       "4                 2                 0                 2                4   \n",
       "\n",
       "   Cleanliness  Online boarding  Departure Delay in Minutes  \\\n",
       "0            3                2                           0   \n",
       "1            3                2                         310   \n",
       "2            4                2                           0   \n",
       "3            1                3                           0   \n",
       "4            2                5                           0   \n",
       "\n",
       "   Arrival Delay in Minutes  \n",
       "0                       0.0  \n",
       "1                     305.0  \n",
       "2                       0.0  \n",
       "3                       0.0  \n",
       "4                       0.0  \n",
       "\n",
       "[5 rows x 23 columns]"
      ]
     },
     "execution_count": 2,
     "metadata": {},
     "output_type": "execute_result"
    }
   ],
   "source": [
    "# Read and print the shape of the data and first 5 rows of it.\n",
    "data_df_org = pd.read_csv(\"data.csv\")\n",
    "data_df = data_df_org.copy()\n",
    "print(\"Shape of the data is: {}\".format(data_df.shape))\n",
    "data_df.head()"
   ]
  },
  {
   "cell_type": "code",
   "execution_count": 3,
   "id": "e52162ce",
   "metadata": {},
   "outputs": [
    {
     "data": {
      "text/plain": [
       "satisfaction                         0\n",
       "Gender                               0\n",
       "Customer Type                        0\n",
       "Age                                  0\n",
       "Type of Travel                       0\n",
       "Class                                0\n",
       "Flight Distance                      0\n",
       "Seat comfort                         0\n",
       "Departure/Arrival time convenient    0\n",
       "Food and drink                       0\n",
       "Gate location                        0\n",
       "Inflight wifi service                0\n",
       "Inflight entertainment               0\n",
       "Online support                       0\n",
       "Ease of Online booking               0\n",
       "On-board service                     0\n",
       "Leg room service                     0\n",
       "Baggage handling                     0\n",
       "Checkin service                      0\n",
       "Cleanliness                          0\n",
       "Online boarding                      0\n",
       "Departure Delay in Minutes           0\n",
       "Arrival Delay in Minutes             5\n",
       "dtype: int64"
      ]
     },
     "execution_count": 3,
     "metadata": {},
     "output_type": "execute_result"
    }
   ],
   "source": [
    "# Detecting the missing(NaN) values.\n",
    "data_df.isnull().sum()"
   ]
  },
  {
   "cell_type": "code",
   "execution_count": 4,
   "id": "e482029d",
   "metadata": {},
   "outputs": [],
   "source": [
    "# Filling the missing values with the mean.\n",
    "data_df[\"Arrival Delay in Minutes\"].fillna(data_df[\"Arrival Delay in Minutes\"].mean(), inplace=True)"
   ]
  },
  {
   "cell_type": "code",
   "execution_count": 5,
   "id": "f7cd2b10",
   "metadata": {},
   "outputs": [
    {
     "data": {
      "text/plain": [
       "satisfaction                          object\n",
       "Gender                                object\n",
       "Customer Type                         object\n",
       "Age                                    int64\n",
       "Type of Travel                        object\n",
       "Class                                 object\n",
       "Flight Distance                        int64\n",
       "Seat comfort                           int64\n",
       "Departure/Arrival time convenient      int64\n",
       "Food and drink                         int64\n",
       "Gate location                          int64\n",
       "Inflight wifi service                  int64\n",
       "Inflight entertainment                 int64\n",
       "Online support                         int64\n",
       "Ease of Online booking                 int64\n",
       "On-board service                       int64\n",
       "Leg room service                       int64\n",
       "Baggage handling                       int64\n",
       "Checkin service                        int64\n",
       "Cleanliness                            int64\n",
       "Online boarding                        int64\n",
       "Departure Delay in Minutes             int64\n",
       "Arrival Delay in Minutes             float64\n",
       "dtype: object"
      ]
     },
     "execution_count": 5,
     "metadata": {},
     "output_type": "execute_result"
    }
   ],
   "source": [
    "# To see the types of the columns, we have to check this output.\n",
    "# We are trying to detect the categorical variable and after the one hot encoding process, their type will become integer.\n",
    "# Why we are doing this? Because when we build our model, the classifier needs numeric variables.\n",
    "data_df.dtypes"
   ]
  },
  {
   "cell_type": "code",
   "execution_count": 6,
   "id": "d94bb8ff",
   "metadata": {},
   "outputs": [
    {
     "name": "stdout",
     "output_type": "stream",
     "text": [
      "-----------------Satisfaction-----------------\n",
      "satisfied       906\n",
      "dissatisfied    829\n",
      "Name: satisfaction, dtype: int64\n",
      "----------------------------------------------\n",
      "--------------------Gender--------------------\n",
      "Female    919\n",
      "Male      816\n",
      "Name: Gender, dtype: int64\n",
      "----------------------------------------------\n",
      "-----------------CustomerType-----------------\n",
      "Loyal Customer       930\n",
      "disloyal Customer    805\n",
      "Name: Customer Type, dtype: int64\n",
      "----------------------------------------------\n",
      "-----------------TypeOfTravel-----------------\n",
      "Business travel    883\n",
      "Personal Travel    852\n",
      "Name: Type of Travel, dtype: int64\n",
      "----------------------------------------------\n",
      "--------------------Class---------------------\n",
      "Eco         1118\n",
      "Business     494\n",
      "Eco Plus     123\n",
      "Name: Class, dtype: int64\n",
      "----------------------------------------------\n"
     ]
    }
   ],
   "source": [
    "# Printing the value counts(how many of which value) of categorical variables\n",
    "print(\"-----------------Satisfaction-----------------\")\n",
    "print(data_df[\"satisfaction\"].value_counts())\n",
    "print(\"----------------------------------------------\")\n",
    "print(\"--------------------Gender--------------------\")\n",
    "print(data_df[\"Gender\"].value_counts())\n",
    "print(\"----------------------------------------------\")\n",
    "print(\"-----------------CustomerType-----------------\")\n",
    "print(data_df[\"Customer Type\"].value_counts())\n",
    "print(\"----------------------------------------------\")\n",
    "print(\"-----------------TypeOfTravel-----------------\")\n",
    "print(data_df[\"Type of Travel\"].value_counts())\n",
    "print(\"----------------------------------------------\")\n",
    "print(\"--------------------Class---------------------\")\n",
    "print(data_df[\"Class\"].value_counts())\n",
    "print(\"----------------------------------------------\")"
   ]
  },
  {
   "cell_type": "code",
   "execution_count": 7,
   "id": "1b9c7e54",
   "metadata": {},
   "outputs": [
    {
     "data": {
      "text/html": [
       "<div>\n",
       "<style scoped>\n",
       "    .dataframe tbody tr th:only-of-type {\n",
       "        vertical-align: middle;\n",
       "    }\n",
       "\n",
       "    .dataframe tbody tr th {\n",
       "        vertical-align: top;\n",
       "    }\n",
       "\n",
       "    .dataframe thead th {\n",
       "        text-align: right;\n",
       "    }\n",
       "</style>\n",
       "<table border=\"1\" class=\"dataframe\">\n",
       "  <thead>\n",
       "    <tr style=\"text-align: right;\">\n",
       "      <th></th>\n",
       "      <th>satisfaction</th>\n",
       "      <th>Gender</th>\n",
       "      <th>Customer Type</th>\n",
       "      <th>Age</th>\n",
       "      <th>Type of Travel</th>\n",
       "      <th>Flight Distance</th>\n",
       "      <th>Seat comfort</th>\n",
       "      <th>Departure/Arrival time convenient</th>\n",
       "      <th>Food and drink</th>\n",
       "      <th>Gate location</th>\n",
       "      <th>...</th>\n",
       "      <th>Leg room service</th>\n",
       "      <th>Baggage handling</th>\n",
       "      <th>Checkin service</th>\n",
       "      <th>Cleanliness</th>\n",
       "      <th>Online boarding</th>\n",
       "      <th>Departure Delay in Minutes</th>\n",
       "      <th>Arrival Delay in Minutes</th>\n",
       "      <th>Class_Business</th>\n",
       "      <th>Class_Eco</th>\n",
       "      <th>Class_Eco Plus</th>\n",
       "    </tr>\n",
       "  </thead>\n",
       "  <tbody>\n",
       "    <tr>\n",
       "      <th>0</th>\n",
       "      <td>1</td>\n",
       "      <td>0</td>\n",
       "      <td>1</td>\n",
       "      <td>65</td>\n",
       "      <td>0</td>\n",
       "      <td>265</td>\n",
       "      <td>0</td>\n",
       "      <td>0</td>\n",
       "      <td>0</td>\n",
       "      <td>2</td>\n",
       "      <td>...</td>\n",
       "      <td>0</td>\n",
       "      <td>3</td>\n",
       "      <td>5</td>\n",
       "      <td>3</td>\n",
       "      <td>2</td>\n",
       "      <td>0</td>\n",
       "      <td>0.0</td>\n",
       "      <td>0</td>\n",
       "      <td>1</td>\n",
       "      <td>0</td>\n",
       "    </tr>\n",
       "    <tr>\n",
       "      <th>1</th>\n",
       "      <td>1</td>\n",
       "      <td>1</td>\n",
       "      <td>1</td>\n",
       "      <td>47</td>\n",
       "      <td>0</td>\n",
       "      <td>2464</td>\n",
       "      <td>0</td>\n",
       "      <td>0</td>\n",
       "      <td>0</td>\n",
       "      <td>3</td>\n",
       "      <td>...</td>\n",
       "      <td>4</td>\n",
       "      <td>4</td>\n",
       "      <td>2</td>\n",
       "      <td>3</td>\n",
       "      <td>2</td>\n",
       "      <td>310</td>\n",
       "      <td>305.0</td>\n",
       "      <td>1</td>\n",
       "      <td>0</td>\n",
       "      <td>0</td>\n",
       "    </tr>\n",
       "    <tr>\n",
       "      <th>2</th>\n",
       "      <td>1</td>\n",
       "      <td>0</td>\n",
       "      <td>1</td>\n",
       "      <td>15</td>\n",
       "      <td>0</td>\n",
       "      <td>2138</td>\n",
       "      <td>0</td>\n",
       "      <td>0</td>\n",
       "      <td>0</td>\n",
       "      <td>3</td>\n",
       "      <td>...</td>\n",
       "      <td>3</td>\n",
       "      <td>4</td>\n",
       "      <td>4</td>\n",
       "      <td>4</td>\n",
       "      <td>2</td>\n",
       "      <td>0</td>\n",
       "      <td>0.0</td>\n",
       "      <td>0</td>\n",
       "      <td>1</td>\n",
       "      <td>0</td>\n",
       "    </tr>\n",
       "    <tr>\n",
       "      <th>3</th>\n",
       "      <td>1</td>\n",
       "      <td>0</td>\n",
       "      <td>1</td>\n",
       "      <td>60</td>\n",
       "      <td>0</td>\n",
       "      <td>623</td>\n",
       "      <td>0</td>\n",
       "      <td>0</td>\n",
       "      <td>0</td>\n",
       "      <td>3</td>\n",
       "      <td>...</td>\n",
       "      <td>0</td>\n",
       "      <td>1</td>\n",
       "      <td>4</td>\n",
       "      <td>1</td>\n",
       "      <td>3</td>\n",
       "      <td>0</td>\n",
       "      <td>0.0</td>\n",
       "      <td>0</td>\n",
       "      <td>1</td>\n",
       "      <td>0</td>\n",
       "    </tr>\n",
       "    <tr>\n",
       "      <th>4</th>\n",
       "      <td>1</td>\n",
       "      <td>0</td>\n",
       "      <td>1</td>\n",
       "      <td>70</td>\n",
       "      <td>0</td>\n",
       "      <td>354</td>\n",
       "      <td>0</td>\n",
       "      <td>0</td>\n",
       "      <td>0</td>\n",
       "      <td>3</td>\n",
       "      <td>...</td>\n",
       "      <td>0</td>\n",
       "      <td>2</td>\n",
       "      <td>4</td>\n",
       "      <td>2</td>\n",
       "      <td>5</td>\n",
       "      <td>0</td>\n",
       "      <td>0.0</td>\n",
       "      <td>0</td>\n",
       "      <td>1</td>\n",
       "      <td>0</td>\n",
       "    </tr>\n",
       "  </tbody>\n",
       "</table>\n",
       "<p>5 rows × 25 columns</p>\n",
       "</div>"
      ],
      "text/plain": [
       "  satisfaction Gender Customer Type  Age Type of Travel  Flight Distance  \\\n",
       "0            1      0             1   65              0              265   \n",
       "1            1      1             1   47              0             2464   \n",
       "2            1      0             1   15              0             2138   \n",
       "3            1      0             1   60              0              623   \n",
       "4            1      0             1   70              0              354   \n",
       "\n",
       "   Seat comfort  Departure/Arrival time convenient  Food and drink  \\\n",
       "0             0                                  0               0   \n",
       "1             0                                  0               0   \n",
       "2             0                                  0               0   \n",
       "3             0                                  0               0   \n",
       "4             0                                  0               0   \n",
       "\n",
       "   Gate location  ...  Leg room service  Baggage handling  Checkin service  \\\n",
       "0              2  ...                 0                 3                5   \n",
       "1              3  ...                 4                 4                2   \n",
       "2              3  ...                 3                 4                4   \n",
       "3              3  ...                 0                 1                4   \n",
       "4              3  ...                 0                 2                4   \n",
       "\n",
       "   Cleanliness  Online boarding  Departure Delay in Minutes  \\\n",
       "0            3                2                           0   \n",
       "1            3                2                         310   \n",
       "2            4                2                           0   \n",
       "3            1                3                           0   \n",
       "4            2                5                           0   \n",
       "\n",
       "   Arrival Delay in Minutes  Class_Business  Class_Eco  Class_Eco Plus  \n",
       "0                       0.0               0          1               0  \n",
       "1                     305.0               1          0               0  \n",
       "2                       0.0               0          1               0  \n",
       "3                       0.0               0          1               0  \n",
       "4                       0.0               0          1               0  \n",
       "\n",
       "[5 rows x 25 columns]"
      ]
     },
     "execution_count": 7,
     "metadata": {},
     "output_type": "execute_result"
    }
   ],
   "source": [
    "# There is a function which takes 2 arguments: column name and any column value.\n",
    "# This function converts the string value to integer. \n",
    "# Column value which we take as a parameter will be 1 and the other will be 0.\n",
    "# But there is a condition that the number of variables must be 2.\n",
    "def categoricalToInt(column_name, column_val):\n",
    "    for i in range(len(data_df[column_name])):\n",
    "        if data_df[column_name][i] == column_val:\n",
    "            data_df[column_name][i] = 1\n",
    "        else:\n",
    "            data_df[column_name][i] = 0\n",
    "\n",
    "# Redesigning the categorical variables as integer values.\n",
    "categoricalToInt(\"satisfaction\", \"satisfied\")\n",
    "categoricalToInt(\"Gender\", \"Male\")\n",
    "categoricalToInt(\"Customer Type\", \"Loyal Customer\")\n",
    "categoricalToInt(\"Type of Travel\", \"Business travel\")\n",
    "\n",
    "# \"Class\" variable has 3 types of values. So that we cannot use the function above. We have to use pd.get_dummies.\n",
    "# This method creates new dataframe so we have to concatenate with the main dataframe.\n",
    "classLabel = pd.get_dummies(data_df[\"Class\"], prefix=\"Class\")\n",
    "\n",
    "# Concatenating dataframes and deleting the \"Class\" variable because we do not need it anymore.\n",
    "one_hot_data_df = pd.concat([data_df, classLabel], axis=1)\n",
    "one_hot_data_df.drop([\"Class\"], axis=1, inplace=True)\n",
    "one_hot_data_df.head()"
   ]
  },
  {
   "cell_type": "code",
   "execution_count": 8,
   "id": "fe4bb4be",
   "metadata": {},
   "outputs": [],
   "source": [
    "# Now we can set all of the variables' type as integer.\n",
    "one_hot_data_df = one_hot_data_df.astype(\"int64\")"
   ]
  },
  {
   "cell_type": "code",
   "execution_count": 9,
   "id": "f24fa6a3",
   "metadata": {},
   "outputs": [],
   "source": [
    "# Splitting the data into independent(X or predictor) and dependent(y or outcome) variables.\n",
    "X = one_hot_data_df.drop([\"satisfaction\"], axis=1)\n",
    "y = one_hot_data_df[[\"satisfaction\"]]"
   ]
  },
  {
   "cell_type": "code",
   "execution_count": 10,
   "id": "ecbdd37f",
   "metadata": {},
   "outputs": [],
   "source": [
    "# Importing Train test split.\n",
    "from sklearn.model_selection import train_test_split"
   ]
  },
  {
   "cell_type": "code",
   "execution_count": 11,
   "id": "60fe7525",
   "metadata": {},
   "outputs": [
    {
     "name": "stdout",
     "output_type": "stream",
     "text": [
      "Shape of X_train is: (1214, 24)         Shape of y_train is: (1214, 1)\n",
      "Shape of X_test is: (347, 24)           Shape of y_test is: (347, 1)\n",
      "Shape of X_val is:(174, 24)             Shape of y_val is: (174, 1)\n"
     ]
    }
   ],
   "source": [
    "# Train test split process 2 times in a row.\n",
    "# First split in order to obtain train and test sets as the test size is 0.2\n",
    "# Second split in order to obtain train and validation sets as the validation(test) size is 1/8\n",
    "X_train, X_test, y_train, y_test = train_test_split(X, y, test_size=0.2, random_state=1)\n",
    "X_train, X_val, y_train, y_val = train_test_split(X_train, y_train, test_size=1/8, random_state=1)\n",
    "print(\"Shape of X_train is: {}         Shape of y_train is: {}\".format(X_train.shape, y_train.shape))\n",
    "print(\"Shape of X_test is: {}           Shape of y_test is: {}\".format(X_test.shape, y_test.shape))\n",
    "print(\"Shape of X_val is:{}             Shape of y_val is: {}\".format(X_val.shape, y_val.shape))"
   ]
  },
  {
   "cell_type": "code",
   "execution_count": 12,
   "id": "b79b2543",
   "metadata": {},
   "outputs": [],
   "source": [
    "# Importing libraries and functions for logistic regression\n",
    "from sklearn.linear_model import LogisticRegression\n",
    "from sklearn.metrics import mean_squared_error, accuracy_score"
   ]
  },
  {
   "cell_type": "code",
   "execution_count": 13,
   "id": "1bfe7196",
   "metadata": {},
   "outputs": [
    {
     "name": "stdout",
     "output_type": "stream",
     "text": [
      "Accuracy score of this model is: 0.9482758620689655\n"
     ]
    }
   ],
   "source": [
    "# At first we are trying to fit out model by using logistic regression without any parameter selection.\n",
    "# After, to see the accuracy of the model, we print the accuracy score.\n",
    "log_reg_model = LogisticRegression()\n",
    "log_reg_model.fit(X_train, y_train)\n",
    "accuracy = accuracy_score(y_val, log_reg_model.predict(X_val))\n",
    "print(\"Accuracy score of this model is: {}\".format(accuracy))"
   ]
  },
  {
   "cell_type": "markdown",
   "id": "6c7440af",
   "metadata": {},
   "source": [
    "This accuracy score is really good. But we have to look for how much we can increase this score."
   ]
  },
  {
   "cell_type": "code",
   "execution_count": 14,
   "id": "e6ed6646",
   "metadata": {},
   "outputs": [
    {
     "data": {
      "image/png": "[encoded data removed]",
      "text/plain": [
       "<Figure size 864x576 with 1 Axes>"
      ]
     },
     "metadata": {
      "needs_background": "light"
     },
     "output_type": "display_data"
    }
   ],
   "source": [
    "# After that, we defined 2 empty lists and a list that contains random numbers.\n",
    "# These empty lists will store train and validation errors.\n",
    "# C_vals list will be used in the for loop below in order to find optimal C for our logistic regression model.\n",
    "train_errors = []\n",
    "valid_errors = []\n",
    "C_vals = [0.01,0.1, 0.2, 0.5, 1, 2, 3, 5]\n",
    "for c in C_vals:\n",
    "    best_log_reg_model = LogisticRegression(C=c)\n",
    "    best_log_reg_model.fit(X_train, y_train)\n",
    "\n",
    "    train_errors.append(mean_squared_error(y_train, best_log_reg_model.predict(X_train)))\n",
    "    valid_errors.append(mean_squared_error(y_val, best_log_reg_model.predict(X_val)))\n",
    "\n",
    "# And plot the results in the same graph\n",
    "plt.figure(figsize=(12,8))\n",
    "plt.title(\"Mean Squared Error for Each C Value\\n\", fontsize=20)\n",
    "plt.xlabel(\"\\nC Values\", fontsize=15)\n",
    "plt.ylabel(\"Mean Squared Error\\n\", fontsize=15)\n",
    "plt.plot(C_vals, train_errors, label=\"Train Error\")\n",
    "plt.plot(C_vals, valid_errors, label=\"Validation Error\")\n",
    "plt.legend()\n",
    "plt.show()"
   ]
  },
  {
   "cell_type": "markdown",
   "id": "63bb24bb",
   "metadata": {},
   "source": [
    "As we can see here, the minimum value of error obtained for both train and validation when we choose c = 3. \n",
    "So, our c value of logistic regressor is 3."
   ]
  },
  {
   "cell_type": "code",
   "execution_count": 15,
   "id": "216526ac",
   "metadata": {},
   "outputs": [
    {
     "name": "stdout",
     "output_type": "stream",
     "text": [
      "Accuracy score of this model is: 0.9655172413793104\n"
     ]
    }
   ],
   "source": [
    "# With optimal parameter, we build new logistic regression model.\n",
    "# Printing the accuracy score of it as well.\n",
    "final_log_reg_model = LogisticRegression(C=3)\n",
    "final_log_reg_model.fit(X_train, y_train)\n",
    "accuracy_lr = accuracy_score(y_val, final_log_reg_model.predict(X_val))\n",
    "print(\"Accuracy score of this model is: {}\".format(accuracy_lr))"
   ]
  },
  {
   "cell_type": "markdown",
   "id": "7219611a",
   "metadata": {},
   "source": [
    " - Before the parameter selection, our accuracy score was **0.9482758620689655**.\n",
    " - After the parameter selection, it becomes **0.9655172413793104**.\n",
    " - It shows that our parameter selection process was successful. It increased the accuracy of the model."
   ]
  },
  {
   "cell_type": "code",
   "execution_count": 16,
   "id": "3c08ab8f",
   "metadata": {},
   "outputs": [],
   "source": [
    "# Importing kNN classifier\n",
    "from sklearn.neighbors import KNeighborsClassifier"
   ]
  },
  {
   "cell_type": "code",
   "execution_count": 17,
   "id": "72797a0e",
   "metadata": {},
   "outputs": [
    {
     "name": "stdout",
     "output_type": "stream",
     "text": [
      "Accuracy score of this model is: 0.6149425287356322\n"
     ]
    }
   ],
   "source": [
    "# At first we are trying to fit out model by using kNN without any parameter selection.\n",
    "# After, to see the accuracy of the model, we print the accuracy score.\n",
    "knn_cls = KNeighborsClassifier()\n",
    "knn_cls.fit(X_train, y_train)\n",
    "accuracy = accuracy_score(y_val, knn_cls.predict(X_val))\n",
    "print(\"Accuracy score of this model is: {}\".format(accuracy))"
   ]
  },
  {
   "cell_type": "markdown",
   "id": "881c8d51",
   "metadata": {},
   "source": [
    "This accuracy score has such a low value actually. We need to increase it as far as we can."
   ]
  },
  {
   "cell_type": "code",
   "execution_count": 18,
   "id": "e267d1d4",
   "metadata": {},
   "outputs": [
    {
     "data": {
      "image/png": "[encoded data removed]",
      "text/plain": [
       "<Figure size 864x576 with 1 Axes>"
      ]
     },
     "metadata": {
      "needs_background": "light"
     },
     "output_type": "display_data"
    }
   ],
   "source": [
    "# After that, we defined 2 empty lists and a list that contains numbers from 1 to 50.\n",
    "# These empty lists will store train and validation errors.\n",
    "# n_neighbors list will be used in the for loop below in order to find optimal number of neighbors for our kNN classifier model.\n",
    "train_errors = []\n",
    "valid_errors = []\n",
    "n_neighbors = list(range(1,50))\n",
    "\n",
    "for n in n_neighbors:\n",
    "    best_knn_cls = KNeighborsClassifier(n_neighbors=n)\n",
    "    best_knn_cls.fit(X_train, y_train)\n",
    "\n",
    "    train_errors.append(mean_squared_error(y_train, best_knn_cls.predict(X_train)))\n",
    "    valid_errors.append(mean_squared_error(y_val, best_knn_cls.predict(X_val)))\n",
    "\n",
    "# And plot the results in the same graph\n",
    "plt.figure(figsize=(12,8))\n",
    "plt.title(\"Mean Squared Error Values for Each Neighbor Number\\n\", fontsize=20)\n",
    "plt.xlabel(\"\\nNumber of Neighbors\", fontsize=15)\n",
    "plt.ylabel(\"Mean Squared Error\\n\", fontsize=15)\n",
    "plt.plot(n_neighbors, train_errors, label=\"Train Error\")\n",
    "plt.plot(n_neighbors, valid_errors, label=\"Validation Error\")\n",
    "plt.legend()\n",
    "plt.show()"
   ]
  },
  {
   "cell_type": "code",
   "execution_count": 19,
   "id": "95e22020",
   "metadata": {},
   "outputs": [
    {
     "name": "stdout",
     "output_type": "stream",
     "text": [
      "The minimum value of validation error obtained for which value of neighbor: 1\n"
     ]
    }
   ],
   "source": [
    "# This graph shows that we obtain minimum error for train set when we choose neighbor number as 1.\n",
    "# But it can be hard to understand what about the validation set. So we can show this like:\n",
    "print(\"The minimum value of validation error obtained for which value of neighbor: {}\".format(valid_errors.index(min(valid_errors))+1))"
   ]
  },
  {
   "cell_type": "markdown",
   "id": "a74843d5",
   "metadata": {},
   "source": [
    "As we can see here, the minimum value of error obtained for both train and validation when we choose the number of variables as 1.\n",
    "So, our model will has 1 neighbor."
   ]
  },
  {
   "cell_type": "code",
   "execution_count": 20,
   "id": "2519071d",
   "metadata": {},
   "outputs": [
    {
     "name": "stdout",
     "output_type": "stream",
     "text": [
      "Accuracy score of this model is: 0.6551724137931034\n"
     ]
    }
   ],
   "source": [
    "# With optimal parameter, we build new kNN classifier model.\n",
    "# Printing the accuracy score of it as well.\n",
    "final_knn_cls = KNeighborsClassifier(n_neighbors=1)\n",
    "final_knn_cls.fit(X_train, y_train)\n",
    "accuracy_knn = accuracy_score(y_val, final_knn_cls.predict(X_val))\n",
    "print(\"Accuracy score of this model is: {}\".format(accuracy_knn))"
   ]
  },
  {
   "cell_type": "markdown",
   "id": "9da93f91",
   "metadata": {},
   "source": [
    " - Before the parameter selection, our accuracy score was **0.6149425287356322**.\n",
    " - After the parameter selection, it becomes **0.6551724137931034**.\n",
    " - It is still the low value but at least we increased the value a little bit more. \n",
    " - It shows that our parameter selection process was successful. It increased the accuracy of the model."
   ]
  },
  {
   "cell_type": "code",
   "execution_count": 21,
   "id": "13c98620",
   "metadata": {},
   "outputs": [
    {
     "name": "stdout",
     "output_type": "stream",
     "text": [
      "Accuracy score of logistic regression is: 0.9655172413793104\n",
      "Accuracy score of kNN classifier is: 0.6551724137931034\n"
     ]
    }
   ],
   "source": [
    "print(\"Accuracy score of logistic regression is: {}\".format(accuracy_lr))\n",
    "print(\"Accuracy score of kNN classifier is: {}\".format(accuracy_knn))"
   ]
  },
  {
   "cell_type": "markdown",
   "id": "ac5e6a4c",
   "metadata": {},
   "source": [
    "After 2 models we built and considering their accuracy scores, we can easily say that logistic regression model is more accurate and performs better than kNN classifier. \n",
    " "
   ]
  },
  {
   "cell_type": "code",
   "execution_count": 22,
   "id": "8c23484c",
   "metadata": {},
   "outputs": [],
   "source": [
    "# Importing the function in order to show confusion matrix as a heatmap\n",
    "from sklearn.metrics import confusion_matrix\n",
    "import seaborn as sns"
   ]
  },
  {
   "cell_type": "code",
   "execution_count": 23,
   "id": "6d6acc05",
   "metadata": {},
   "outputs": [
    {
     "data": {
      "image/png": "[encoded data removed]",
      "text/plain": [
       "<Figure size 864x576 with 2 Axes>"
      ]
     },
     "metadata": {
      "needs_background": "light"
     },
     "output_type": "display_data"
    }
   ],
   "source": [
    "# Plotting the confusion matrix for logistic regression on test set\n",
    "cf_matrix_lr = confusion_matrix(y_test, final_log_reg_model.predict(X_test))\n",
    "plt.figure(figsize=(12,8))\n",
    "ax = sns.heatmap(cf_matrix_lr, annot=True, cmap='Blues', fmt='g')\n",
    "ax.set_title('Confusion Matrix for Logistic Regression Model\\n', fontsize=20)\n",
    "ax.set_xlabel('\\nPredicted Values', fontsize=15)\n",
    "ax.set_ylabel('Actual Values\\n', fontsize=15)\n",
    "ax.xaxis.set_ticklabels(['False','True'])\n",
    "ax.yaxis.set_ticklabels(['False','True'])\n",
    "plt.show()"
   ]
  },
  {
   "cell_type": "markdown",
   "id": "b5040836",
   "metadata": {},
   "source": [
    " - True-positive and true-negative values are high so the accuracy is really good.\n",
    " - False-positive and false-negative values are low so the error rate is low which is nice news as well.\n",
    " - By looking at this, we can easily see that the precision and recall values are high."
   ]
  },
  {
   "cell_type": "code",
   "execution_count": 24,
   "id": "d2da1aae",
   "metadata": {},
   "outputs": [
    {
     "data": {
      "image/png": "[encoded data removed]",
      "text/plain": [
       "<Figure size 864x576 with 2 Axes>"
      ]
     },
     "metadata": {
      "needs_background": "light"
     },
     "output_type": "display_data"
    }
   ],
   "source": [
    "# Plotting the confusion matrix for kNN classifier on test set\n",
    "cf_matrix_knn = confusion_matrix(y_test, final_knn_cls.predict(X_test))\n",
    "plt.figure(figsize=(12,8))\n",
    "ax = sns.heatmap(cf_matrix_knn, annot=True, cmap='Blues', fmt='g')\n",
    "ax.set_title('Confusion Matrix for kNN Classifier Model\\n', fontsize=20)\n",
    "ax.set_xlabel('\\nPredicted Values', fontsize=15)\n",
    "ax.set_ylabel('Actual Values\\n', fontsize=15)\n",
    "ax.xaxis.set_ticklabels(['False','True'])\n",
    "ax.yaxis.set_ticklabels(['False','True'])\n",
    "plt.show()"
   ]
  },
  {
   "cell_type": "markdown",
   "id": "c990e149",
   "metadata": {},
   "source": [
    " - True-positive and true-negative values are high but not very much, so the accuracy is decent.\n",
    " - False-positive and false-negative values are low but not very much again, so the error rate is decent as well.\n",
    " - By looking at this, we can easily see that the precision and recall values are low compared with logistic regression.\n",
    " - This confusion matrix shows again logistic regression model is more accurate than kNN classifier."
   ]
  },
  {
   "cell_type": "code",
   "execution_count": 25,
   "id": "17e7b2a5",
   "metadata": {},
   "outputs": [],
   "source": [
    "# Importing the function in order to show the precision-recall curve\n",
    "from sklearn.metrics import precision_recall_curve"
   ]
  },
  {
   "cell_type": "code",
   "execution_count": 26,
   "id": "86db0b03",
   "metadata": {},
   "outputs": [
    {
     "data": {
      "image/png": "[encoded data removed]",
      "text/plain": [
       "<Figure size 864x576 with 1 Axes>"
      ]
     },
     "metadata": {
      "needs_background": "light"
     },
     "output_type": "display_data"
    }
   ],
   "source": [
    "# Plotting the precision-recall curve for logistic regression model\n",
    "precision, recall, thresholds = precision_recall_curve(y_test, final_log_reg_model.predict_proba(X_test)[:,1])\n",
    "fig, ax = plt.subplots(figsize=(12,8))\n",
    "ax.plot(recall, precision)\n",
    "ax.set_title('Precision-Recall Curve for Logistic Regression Model\\n', fontsize=20)\n",
    "ax.set_ylabel('\\nPrecision', fontsize=15)\n",
    "ax.set_xlabel('Recall\\n', fontsize=15)\n",
    "plt.show()"
   ]
  },
  {
   "cell_type": "markdown",
   "id": "8ccc72c9",
   "metadata": {},
   "source": [
    " - This curve shows that logistic regression model is almost ideal.\n",
    " - Because the curve is so so close to the right-top of the graph.\n",
    " - So that performance of this model is really good"
   ]
  },
  {
   "cell_type": "code",
   "execution_count": 27,
   "id": "0884c113",
   "metadata": {},
   "outputs": [
    {
     "data": {
      "image/png": "[encoded data removed]",
      "text/plain": [
       "<Figure size 864x576 with 1 Axes>"
      ]
     },
     "metadata": {
      "needs_background": "light"
     },
     "output_type": "display_data"
    }
   ],
   "source": [
    "# Plotting the precision-recall curve for kNN classifier model\n",
    "precision, recall, thresholds = precision_recall_curve(y_test, final_knn_cls.predict_proba(X_test)[:,1])\n",
    "fig, ax = plt.subplots(figsize=(12,8))\n",
    "ax.plot(recall, precision)\n",
    "ax.set_title('Precision-Recall Curve for kNN classifier Model\\n', fontsize=20)\n",
    "ax.set_ylabel('\\nPrecision', fontsize=15)\n",
    "ax.set_xlabel('Recall\\n', fontsize=15)\n",
    "plt.show()"
   ]
  },
  {
   "cell_type": "markdown",
   "id": "5e3621a1",
   "metadata": {},
   "source": [
    " - Unlike the logistic regression, this curve(almost linear) shows that kNN model is really far from the ideal.\n",
    " - Because the curve is far far away from the right-top of the graph.\n",
    " - So that performance of this model is decent-bad."
   ]
  },
  {
   "cell_type": "code",
   "execution_count": null,
   "id": "f2e3e3f8",
   "metadata": {},
   "outputs": [],
   "source": []
  }
 ],
 "metadata": {
  "colab": {
   "collapsed_sections": [],
   "name": "Assignment_4v2.ipynb",
   "provenance": []
  },
  "kernelspec": {
   "display_name": "Python 3",
   "language": "python",
   "name": "python3"
  },
  "language_info": {
   "codemirror_mode": {
    "name": "ipython",
    "version": 3
   },
   "file_extension": ".py",
   "mimetype": "text/x-python",
   "name": "python",
   "nbconvert_exporter": "python",
   "pygments_lexer": "ipython3",
   "version": "3.8.8"
  }
 },
 "nbformat": 4,
 "nbformat_minor": 5
}
